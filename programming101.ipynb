{
 "cells": [
  {
   "cell_type": "markdown",
   "metadata": {},
   "source": [
    "## Programming Skills 101\n",
    "\n",
    "- Subroutine\n",
    "- variables\n",
    "- Concatenation using f string"
   ]
  },
  {
   "cell_type": "code",
   "execution_count": null,
   "metadata": {
    "vscode": {
     "languageId": "plaintext"
    }
   },
   "outputs": [],
   "source": [
    "def fishtankvolume():\n",
    "    '''find the volume of a fish tank'''\n",
    "    depth = float(input('Enter the tank depth:'))\n",
    "    height = float(input('Enter the tank height:'))\n",
    "    width = float(input('Enter the tank width:'))\n",
    "    volume = depth*height*width\n",
    "    print(f'''You entered {depth} for depth\n",
    "You entered {height} for height\n",
    "You entered {width} for width \\nThe volume is {volume:.2f}''')\n",
    "\n"
   ]
  }
 ],
 "metadata": {
  "language_info": {
   "name": "python"
  }
 },
 "nbformat": 4,
 "nbformat_minor": 2
}
