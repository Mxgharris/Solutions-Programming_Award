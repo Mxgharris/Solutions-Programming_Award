{
 "cells": [
  {
   "cell_type": "markdown",
   "metadata": {},
   "source": [
    "## Programming Skills 101\n",
    "\n",
    "- Subroutine\n",
    "- variables\n",
    "- Concatenation using f string"
   ]
  },
  {
   "cell_type": "code",
   "execution_count": 1,
   "metadata": {},
   "outputs": [],
   "source": [
    "def fishtankvolume():\n",
    "    '''find the volume of a fish tank'''\n",
    "    depth = float(input('Enter the tank depth:'))\n",
    "    height = float(input('Enter the tank height:'))\n",
    "    width = float(input('Enter the tank width:'))\n",
    "    volume = depth*height*width\n",
    "    print(f'''You entered {depth} for depth\n",
    "You entered {height} for height\n",
    "You entered {width} for width \\nThe volume is {volume:.2f}''')\n",
    "\n"
   ]
  },
  {
   "cell_type": "code",
   "execution_count": 2,
   "metadata": {},
   "outputs": [
    {
     "name": "stdout",
     "output_type": "stream",
     "text": [
      "You entered 4.0 for depth\n",
      "You entered 6.0 for height\n",
      "You entered 8.0 for width \n",
      "The volume is 192.00\n"
     ]
    }
   ],
   "source": [
    "fishtankvolume()\n"
   ]
  }
 ],
 "metadata": {
  "kernelspec": {
   "display_name": "Python 3 (ipykernel)",
   "language": "python",
   "name": "python3"
  },
  "language_info": {
   "codemirror_mode": {
    "name": "ipython",
    "version": 3
   },
   "file_extension": ".py",
   "mimetype": "text/x-python",
   "name": "python",
   "nbconvert_exporter": "python",
   "pygments_lexer": "ipython3",
   "version": "3.12.1"
  }
 },
 "nbformat": 4,
 "nbformat_minor": 2
}
