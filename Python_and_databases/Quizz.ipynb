{
 "cells": [
  {
   "cell_type": "markdown",
   "metadata": {},
   "source": []
  },
  {
   "cell_type": "code",
   "execution_count": null,
   "metadata": {},
   "outputs": [],
   "source": [
    "from random import randint as r, choice as ch\n",
    "import sys\n",
    "#sys.path.append(\"/Solutions-Programming_club/Python_and_databases\")\n",
    "import quizDatabaseHelper "
   ]
  },
  {
   "cell_type": "code",
   "execution_count": null,
   "metadata": {},
   "outputs": [],
   "source": [
    "\n",
    "def printmenu():\n",
    "    '''print a list of menu items'''\n",
    "    title =\"Welcome to Max's quiz\"\n",
    "    deco = \"-\"\n",
    "    menu = '''\n",
    "1. Multiplication\n",
    "2. Addition\n",
    "3. Subtraction\n",
    "4. Advanced\n",
    "5. Desplay All Results\n",
    "6. Search result by person\n",
    "7. Quit\n",
    "    '''\n",
    "    print(f'{title}\\n{deco*len(title)}\\n{menu}')\n"
   ]
  }
 ],
 "metadata": {
  "kernelspec": {
   "display_name": "Python 3 (ipykernel)",
   "language": "python",
   "name": "python3"
  },
  "language_info": {
   "codemirror_mode": {
    "name": "ipython",
    "version": 3
   },
   "file_extension": ".py",
   "mimetype": "text/x-python",
   "name": "python",
   "nbconvert_exporter": "python",
   "pygments_lexer": "ipython3",
   "version": "3.12.1"
  }
 },
 "nbformat": 4,
 "nbformat_minor": 2
}
