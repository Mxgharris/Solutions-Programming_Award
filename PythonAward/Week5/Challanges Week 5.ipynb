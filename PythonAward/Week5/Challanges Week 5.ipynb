{
 "cells": [
  {
   "cell_type": "code",
   "execution_count": 1,
   "metadata": {},
   "outputs": [
    {
     "name": "stdout",
     "output_type": "stream",
     "text": [
      "Please enter a number\n",
      "Please enter a score between 0 and 100\n",
      "1. 3\n",
      "2. 4\n",
      "3. 6\n",
      "4. 8\n",
      "5. 9\n",
      "6. 3\n",
      "7. 5\n",
      "8. 2\n"
     ]
    }
   ],
   "source": [
    "def li(scores):\n",
    "    for i in range(len(scores)):\n",
    "        print(f\"{i+1}. {scores[i]}\")\n",
    "\n",
    "def scores():\n",
    "    scores=[]\n",
    "    while True:\n",
    "         try:\n",
    "            score=int(input(\"Enter a score from 0 to 100 or enter -1 to stop: \"))\n",
    "            if 0<= score<=100:\n",
    "                scores.append(score)\n",
    "            elif score==-1:\n",
    "                break\n",
    "            else:\n",
    "                print(\"Please enter a score between 0 and 100\")\n",
    "         except ValueError:\n",
    "            print(\"Please enter a number\")\n",
    "    li(scores)\n",
    "\n",
    "scores()"
   ]
  },
  {
   "cell_type": "code",
   "execution_count": 11,
   "metadata": {},
   "outputs": [
    {
     "name": "stdout",
     "output_type": "stream",
     "text": [
      "No file avalible!!!\n",
      "\n",
      "Maths:\n",
      "calculus\n",
      "graphs\n",
      "quadractics\n"
     ]
    }
   ],
   "source": [
    "def save():\n",
    "    cat=input(\"Enter the catagory name\")\n",
    "    with open(\"notes.txt\", \"w\") as file:\n",
    "        file.write(f\"\\n{cat}:\\n\")\n",
    "    while True:\n",
    "        note=input(\"Enter a note or enter stop to stop: \")\n",
    "        if note==\"stop\":\n",
    "            break\n",
    "        else:\n",
    "            with open(\"notes.txt\", \"a\") as file:\n",
    "                file.write(f\"{note}\\n\")\n",
    "\n",
    "def display():\n",
    "    try:\n",
    "        with open(\"notes.txt\", \"r\") as file:\n",
    "            content=file.readlines()\n",
    "        for line in content:\n",
    "            print(line.strip())\n",
    "    except FileNotFoundError:\n",
    "        print(\"No file avalible!!!\")\n",
    "\n",
    "display()\n",
    "save()\n",
    "display()\n",
    "\n",
    "    "
   ]
  },
  {
   "cell_type": "code",
   "execution_count": null,
   "metadata": {},
   "outputs": [],
   "source": []
  }
 ],
 "metadata": {
  "kernelspec": {
   "display_name": "Python 3 (ipykernel)",
   "language": "python",
   "name": "python3"
  },
  "language_info": {
   "codemirror_mode": {
    "name": "ipython",
    "version": 3
   },
   "file_extension": ".py",
   "mimetype": "text/x-python",
   "name": "python",
   "nbconvert_exporter": "python",
   "pygments_lexer": "ipython3",
   "version": "3.12.1"
  }
 },
 "nbformat": 4,
 "nbformat_minor": 2
}
