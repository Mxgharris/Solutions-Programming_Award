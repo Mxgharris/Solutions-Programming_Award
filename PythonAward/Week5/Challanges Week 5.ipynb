{
 "cells": [
  {
   "cell_type": "code",
   "execution_count": 1,
   "metadata": {},
   "outputs": [
    {
     "name": "stdout",
     "output_type": "stream",
     "text": [
      "Please enter a number\n",
      "Please enter a score between 0 and 100\n",
      "1. 3\n",
      "2. 4\n",
      "3. 6\n",
      "4. 8\n",
      "5. 9\n",
      "6. 3\n",
      "7. 5\n",
      "8. 2\n"
     ]
    }
   ],
   "source": [
    "def li(scores):\n",
    "    for i in range(len(scores)):\n",
    "        print(f\"{i+1}. {scores[i]}\")\n",
    "\n",
    "def scores():\n",
    "    scores=[]\n",
    "    while True:\n",
    "         try:\n",
    "            score=int(input(\"Enter a score from 0 to 100 or enter -1 to stop: \"))\n",
    "            if 0<= score<=100:\n",
    "                scores.append(score)\n",
    "            elif score==-1:\n",
    "                break\n",
    "            else:\n",
    "                print(\"Please enter a score between 0 and 100\")\n",
    "         except ValueError:\n",
    "            print(\"Please enter a number\")\n",
    "    li(scores)\n",
    "\n",
    "scores()"
   ]
  },
  {
   "cell_type": "code",
   "execution_count": 11,
   "metadata": {},
   "outputs": [
    {
     "name": "stdout",
     "output_type": "stream",
     "text": [
      "No file avalible!!!\n",
      "\n",
      "Maths:\n",
      "calculus\n",
      "graphs\n",
      "quadractics\n"
     ]
    }
   ],
   "source": [
    "def save():\n",
    "    cat=input(\"Enter the catagory name\")\n",
    "    with open(\"notes.txt\", \"w\") as file:\n",
    "        file.write(f\"\\n{cat}:\\n\")\n",
    "    while True:\n",
    "        note=input(\"Enter a note or enter stop to stop: \")\n",
    "        if note==\"stop\":\n",
    "            break\n",
    "        else:\n",
    "            with open(\"notes.txt\", \"a\") as file:\n",
    "                file.write(f\"{note}\\n\")\n",
    "\n",
    "def display():\n",
    "    try:\n",
    "        with open(\"notes.txt\", \"r\") as file:\n",
    "            content=file.readlines()\n",
    "        for line in content:\n",
    "            print(line.strip())\n",
    "    except FileNotFoundError:\n",
    "        print(\"No file avalible!!!\")\n",
    "\n",
    "display()\n",
    "save()\n",
    "display()\n",
    "\n",
    "    "
   ]
  },
  {
   "cell_type": "code",
   "execution_count": 6,
   "metadata": {},
   "outputs": [
    {
     "name": "stdout",
     "output_type": "stream",
     "text": [
      "No previous bookings found. Starting fresh.\n",
      "Booking added: Max has booked Quantum computer\n",
      "Booking added: Alex has booked Particle Accelorator\n",
      "\n",
      "Current bookings:\n",
      "Student: Max, Equipment: Quantum computer\n",
      "Student: Alex, Equipment: Particle Accelorator\n",
      "Exiting...\n"
     ]
    }
   ],
   "source": [
    "def bookings(b):\n",
    "    while True:\n",
    "        nm = input(\"Enter the name: \").strip()\n",
    "        eq = input(\"Enter the name of the equipment: \").strip()\n",
    "        \n",
    "        if not nm or not eq:\n",
    "            print(\"Cannot have blank spaces\")\n",
    "            continue\n",
    "        \n",
    "        # Check for duplicate student and equipment booking\n",
    "        if any(nm == student and eq == equipment for student, equipment in b):\n",
    "            print(\"This student has already booked this equipment.\")\n",
    "            continue\n",
    "        if any(eq == equipment for student, equipment in b):\n",
    "            print(\"This equipment is already booked.\")\n",
    "            continue\n",
    "        \n",
    "        # Add the new booking\n",
    "        b.append((nm, eq))\n",
    "        print(f\"Booking added: {nm} has booked {eq}\")\n",
    "        \n",
    "        # Ask if the user wants to stop entering bookings\n",
    "        en = input(\"Press Y if you want to stop putting in bookings: \")\n",
    "        if en.lower() == \"y\":\n",
    "            break\n",
    "\n",
    "\n",
    "def disp(b):\n",
    "    if not b:\n",
    "        print(\"No bookings available.\")\n",
    "    else:\n",
    "        print(\"\\nCurrent bookings:\")\n",
    "        for nm, eq in b:\n",
    "            print(f\"Student: {nm}, Equipment: {eq}\")\n",
    "\n",
    "\n",
    "def labook():\n",
    "    book = []\n",
    "    \n",
    "    # Load bookings from file\n",
    "    try:\n",
    "        with open(\"LabBookings.txt\", \"r\") as file:\n",
    "            for line in file:\n",
    "                nm, eq = line.strip().split(\", \")\n",
    "                book.append((nm, eq))\n",
    "    except FileNotFoundError:\n",
    "        print(\"No previous bookings found. Starting fresh.\")\n",
    "    \n",
    "    while True:\n",
    "        try:\n",
    "            ch = int(input(\"\\nOptions \\n1. Enter bookings \\n2. Display all bookings\\n3. Exit: \"))\n",
    "            if ch == 1:\n",
    "                bookings(book)\n",
    "                # Save the updated bookings back to file after new booking\n",
    "                with open(\"LabBookings.txt\", \"w\") as file:\n",
    "                    for nm, eq in book:\n",
    "                        file.write(f\"{nm}, {eq}\\n\")\n",
    "            elif ch == 2:\n",
    "                disp(book)\n",
    "            elif ch == 3:\n",
    "                print(\"Exiting...\")\n",
    "                break\n",
    "            else:\n",
    "                print(\"Invalid choice, please try again.\")\n",
    "        except ValueError:\n",
    "            print(\"Please enter a valid number.\")\n",
    "labook()"
   ]
  },
  {
   "cell_type": "code",
   "execution_count": null,
   "metadata": {},
   "outputs": [],
   "source": []
  }
 ],
 "metadata": {
  "kernelspec": {
   "display_name": "Python 3 (ipykernel)",
   "language": "python",
   "name": "python3"
  },
  "language_info": {
   "codemirror_mode": {
    "name": "ipython",
    "version": 3
   },
   "file_extension": ".py",
   "mimetype": "text/x-python",
   "name": "python",
   "nbconvert_exporter": "python",
   "pygments_lexer": "ipython3",
   "version": "3.12.1"
  }
 },
 "nbformat": 4,
 "nbformat_minor": 2
}
