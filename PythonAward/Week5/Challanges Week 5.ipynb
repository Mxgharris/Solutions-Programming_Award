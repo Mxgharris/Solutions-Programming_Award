{
 "cells": [
  {
   "cell_type": "code",
   "execution_count": null,
   "metadata": {},
   "outputs": [
    {
     "name": "stdout",
     "output_type": "stream",
     "text": [
      "Please enter a score between 0 and 100\n",
      "Please enter a number\n",
      "Please enter a number\n",
      "0. 3\n",
      "1. 6\n",
      "2. 8\n",
      "3. 9\n",
      "4. 7\n",
      "5. 5\n",
      "6. 33\n",
      "7. 3\n"
     ]
    }
   ],
   "source": [
    "def li(scores):\n",
    "    for i in range(len(scores)):\n",
    "        print(f\"{i+1}. {scores[i]}\")\n",
    "\n",
    "def scores():\n",
    "    scores=[]\n",
    "    while True:\n",
    "         try:\n",
    "            score=int(input(\"Enter a score from 0 to 100 or enter -1 to stop: \"))\n",
    "            if 0<= score<=100:\n",
    "                scores.append(score)\n",
    "            elif score==-1:\n",
    "                break\n",
    "            else:\n",
    "                print(\"Please enter a score between 0 and 100\")\n",
    "         except ValueError:\n",
    "            print(\"Please enter a number\")\n",
    "    li(scores)\n",
    "\n",
    "scores()"
   ]
  }
 ],
 "metadata": {
  "kernelspec": {
   "display_name": "Python 3 (ipykernel)",
   "language": "python",
   "name": "python3"
  },
  "language_info": {
   "codemirror_mode": {
    "name": "ipython",
    "version": 3
   },
   "file_extension": ".py",
   "mimetype": "text/x-python",
   "name": "python",
   "nbconvert_exporter": "python",
   "pygments_lexer": "ipython3",
   "version": "3.12.1"
  }
 },
 "nbformat": 4,
 "nbformat_minor": 2
}
