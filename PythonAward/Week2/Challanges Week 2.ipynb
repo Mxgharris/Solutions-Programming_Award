{
 "cells": [
  {
   "cell_type": "code",
   "execution_count": 1,
   "metadata": {},
   "outputs": [],
   "source": [
    "from random import randint as r\n",
    "def zeroGorL():\n",
    "    num=int(input(\"Enter a number: \"))\n",
    "    if num>0:\n",
    "        print(\"Positive\")\n",
    "    elif num<0:\n",
    "        print(\"Negative\")\n",
    "    else:\n",
    "        print(\"Zero\")\n",
    "        \n",
    "def guessNum():\n",
    "    num = r(1,10)\n",
    "    while True:\n",
    "        guess=int(input(\"Guess a number between 1 and 10: \"))\n",
    "        if num>guess:\n",
    "            print(\"Too low\")\n",
    "        elif num<guess:\n",
    "            print(\"Too high\")\n",
    "        else:\n",
    "            print(\"Correct\")\n",
    "            break\n",
    "        \n",
    "def multTable():\n",
    "    num=int(input(\"Enter a number: \"))\n",
    "    for i in range(1,13):\n",
    "        print(f\"{num} x {i} = {num*i}\")\n",
    "\n",
    "def countDown():\n",
    "    num=int(input(\"Enter a number to count down from: \"))\n",
    "    for i in range(num,-1,-1):\n",
    "        print(i)\n",
    "        \n",
    "def fizzBuzz():\n",
    "    for i in range(1,51):\n",
    "        if i%3==0 and i%5==0:\n",
    "            print(f\"{i} FizzBuzz\")\n",
    "        elif i%5==0:\n",
    "            print(f\"{i} Buzz\")\n",
    "        elif i%3==0:\n",
    "            print(f\"{i} Fizz\")\n",
    "        else:\n",
    "            print(f\"{i}\")\n",
    "\n",
    "def primeChecker():\n",
    "    num=int(input(\"Enter a number: \"))\n",
    "    p=0\n",
    "    if num<=1:\n",
    "        print(\"Not prime\")\n",
    "        p=\"n\"\n",
    "    for i in range(2, int(num ** 0.5) + 1):\n",
    "        if num % i == 0:\n",
    "            print(\"Not prime\")\n",
    "            p=\"n\"\n",
    "    if p!=\"n\":\n",
    "        print(\"Prime\")\n",
    "    "
   ]
  },
  {
   "cell_type": "code",
   "execution_count": 4,
   "metadata": {},
   "outputs": [
    {
     "name": "stdout",
     "output_type": "stream",
     "text": [
      "Positive\n",
      "Negative\n",
      "Zero\n"
     ]
    }
   ],
   "source": [
    "zeroGorL()\n",
    "zeroGorL()\n",
    "zeroGorL()"
   ]
  },
  {
   "cell_type": "code",
   "execution_count": 5,
   "metadata": {},
   "outputs": [
    {
     "name": "stdout",
     "output_type": "stream",
     "text": [
      "Too low\n",
      "Too high\n",
      "Correct\n"
     ]
    }
   ],
   "source": [
    "guessNum()"
   ]
  },
  {
   "cell_type": "code",
   "execution_count": 6,
   "metadata": {},
   "outputs": [
    {
     "name": "stdout",
     "output_type": "stream",
     "text": [
      "12 x 1 = 12\n",
      "12 x 2 = 24\n",
      "12 x 3 = 36\n",
      "12 x 4 = 48\n",
      "12 x 5 = 60\n",
      "12 x 6 = 72\n",
      "12 x 7 = 84\n",
      "12 x 8 = 96\n",
      "12 x 9 = 108\n",
      "12 x 10 = 120\n",
      "12 x 11 = 132\n",
      "12 x 12 = 144\n"
     ]
    }
   ],
   "source": [
    "multTable()"
   ]
  },
  {
   "cell_type": "code",
   "execution_count": 7,
   "metadata": {},
   "outputs": [
    {
     "name": "stdout",
     "output_type": "stream",
     "text": [
      "23\n",
      "22\n",
      "21\n",
      "20\n",
      "19\n",
      "18\n",
      "17\n",
      "16\n",
      "15\n",
      "14\n",
      "13\n",
      "12\n",
      "11\n",
      "10\n",
      "9\n",
      "8\n",
      "7\n",
      "6\n",
      "5\n",
      "4\n",
      "3\n",
      "2\n",
      "1\n",
      "0\n"
     ]
    }
   ],
   "source": [
    "countDown()"
   ]
  },
  {
   "cell_type": "code",
   "execution_count": 8,
   "metadata": {},
   "outputs": [
    {
     "name": "stdout",
     "output_type": "stream",
     "text": [
      "1\n",
      "2\n",
      "3 Fizz\n",
      "4\n",
      "5 Buzz\n",
      "6 Fizz\n",
      "7\n",
      "8\n",
      "9 Fizz\n",
      "10 Buzz\n",
      "11\n",
      "12 Fizz\n",
      "13\n",
      "14\n",
      "15 FizzBuzz\n",
      "16\n",
      "17\n",
      "18 Fizz\n",
      "19\n",
      "20 Buzz\n",
      "21 Fizz\n",
      "22\n",
      "23\n",
      "24 Fizz\n",
      "25 Buzz\n",
      "26\n",
      "27 Fizz\n",
      "28\n",
      "29\n",
      "30 FizzBuzz\n",
      "31\n",
      "32\n",
      "33 Fizz\n",
      "34\n",
      "35 Buzz\n",
      "36 Fizz\n",
      "37\n",
      "38\n",
      "39 Fizz\n",
      "40 Buzz\n",
      "41\n",
      "42 Fizz\n",
      "43\n",
      "44\n",
      "45 FizzBuzz\n",
      "46\n",
      "47\n",
      "48 Fizz\n",
      "49\n",
      "50 Buzz\n"
     ]
    }
   ],
   "source": [
    "fizzBuzz()"
   ]
  },
  {
   "cell_type": "code",
   "execution_count": 9,
   "metadata": {},
   "outputs": [
    {
     "name": "stdout",
     "output_type": "stream",
     "text": [
      "Not prime\n",
      "Prime\n"
     ]
    }
   ],
   "source": [
    "primeChecker()\n",
    "primeChecker()"
   ]
  },
  {
   "cell_type": "code",
   "execution_count": 2,
   "metadata": {},
   "outputs": [
    {
     "name": "stdout",
     "output_type": "stream",
     "text": [
      "Mercades\n",
      "The Mercades SLK engine has started.\n"
     ]
    }
   ],
   "source": [
    "class Car:\n",
    "    def __init__(self, brand, model, year):\n",
    "        self.brand = brand  # Attribute\n",
    "        self.model = model\n",
    "        self.year = year\n",
    "\n",
    "    def start_engine(self):  # Method\n",
    "        print(f\"The {self.brand} {self.model} engine has started.\")\n",
    "\n",
    "# Creating an object (instance) of the Car class\n",
    "my_car = Car(\"Mercades\", \"SLK\", 2022)\n",
    "print(my_car.brand)  # Output: Toyota\n",
    "my_car.start_engine()  # Output: The Toyota Corolla engine has started."
   ]
  }
 ],
 "metadata": {
  "kernelspec": {
   "display_name": "Python 3 (ipykernel)",
   "language": "python",
   "name": "python3"
  },
  "language_info": {
   "codemirror_mode": {
    "name": "ipython",
    "version": 3
   },
   "file_extension": ".py",
   "mimetype": "text/x-python",
   "name": "python",
   "nbconvert_exporter": "python",
   "pygments_lexer": "ipython3",
   "version": "3.12.1"
  }
 },
 "nbformat": 4,
 "nbformat_minor": 2
}
