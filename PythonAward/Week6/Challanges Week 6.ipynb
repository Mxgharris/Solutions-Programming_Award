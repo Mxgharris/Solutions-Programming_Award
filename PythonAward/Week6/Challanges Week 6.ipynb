{
 "cells": [
  {
   "cell_type": "code",
   "execution_count": 3,
   "metadata": {},
   "outputs": [
    {
     "name": "stdout",
     "output_type": "stream",
     "text": [
      "Max: Grey\n",
      "\n"
     ]
    }
   ],
   "source": [
    "def nmCol():\n",
    "    nm, col=input(\"Enter your name and colour sperated by a space: \").split()\n",
    "    with open(\"user_info.txt\",\"w\") as file:\n",
    "        print(f\"{nm}: {col}\")\n",
    "    with open(\"user_info.txt\",\"r\") as file:\n",
    "        cont=file.read()\n",
    "        print(cont)\n",
    "nmCol()\n"
   ]
  },
  {
   "cell_type": "code",
   "execution_count": null,
   "metadata": {},
   "outputs": [],
   "source": []
  }
 ],
 "metadata": {
  "kernelspec": {
   "display_name": "Python 3 (ipykernel)",
   "language": "python",
   "name": "python3"
  },
  "language_info": {
   "codemirror_mode": {
    "name": "ipython",
    "version": 3
   },
   "file_extension": ".py",
   "mimetype": "text/x-python",
   "name": "python",
   "nbconvert_exporter": "python",
   "pygments_lexer": "ipython3",
   "version": "3.12.1"
  }
 },
 "nbformat": 4,
 "nbformat_minor": 2
}
