{
 "cells": [
  {
   "cell_type": "code",
   "execution_count": 3,
   "metadata": {},
   "outputs": [
    {
     "name": "stdout",
     "output_type": "stream",
     "text": [
      "Max: Grey\n",
      "\n"
     ]
    }
   ],
   "source": [
    "def nmCol():\n",
    "    nm, col=input(\"Enter your name and colour sperated by a space: \").split()\n",
    "    with open(\"user_info.txt\",\"w\") as file:\n",
    "        print(f\"{nm}: {col}\")\n",
    "    with open(\"user_info.txt\",\"r\") as file:\n",
    "        cont=file.read()\n",
    "        print(cont)\n",
    "nmCol()\n"
   ]
  },
  {
   "cell_type": "code",
   "execution_count": 1,
   "metadata": {},
   "outputs": [
    {
     "name": "stdout",
     "output_type": "stream",
     "text": [
      "There are 2 words.\n"
     ]
    }
   ],
   "source": [
    "def wordCount():\n",
    "    with open(\"sample.txt\", \"w\") as file:\n",
    "        content=input(\"Add content to the file:\")\n",
    "        file.write(content)\n",
    "    with open(\"sample.txt\", \"r\") as file:\n",
    "        text=file.read()\n",
    "        count=text.count(\" \")+1\n",
    "        print(f\"There are {count} words.\")\n",
    "wordCount()\n",
    "\n",
    "        "
   ]
  }
 ],
 "metadata": {
  "kernelspec": {
   "display_name": "Python 3 (ipykernel)",
   "language": "python",
   "name": "python3"
  },
  "language_info": {
   "codemirror_mode": {
    "name": "ipython",
    "version": 3
   },
   "file_extension": ".py",
   "mimetype": "text/x-python",
   "name": "python",
   "nbconvert_exporter": "python",
   "pygments_lexer": "ipython3",
   "version": "3.12.1"
  }
 },
 "nbformat": 4,
 "nbformat_minor": 2
}
