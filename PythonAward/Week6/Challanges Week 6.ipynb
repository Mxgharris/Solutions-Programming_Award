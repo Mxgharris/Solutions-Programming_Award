{
 "cells": [
  {
   "cell_type": "code",
   "execution_count": 3,
   "metadata": {},
   "outputs": [
    {
     "name": "stdout",
     "output_type": "stream",
     "text": [
      "Max: Grey\n",
      "\n"
     ]
    }
   ],
   "source": [
    "def nmCol():\n",
    "    nm, col=input(\"Enter your name and colour sperated by a space: \").split()\n",
    "    with open(\"user_info.txt\",\"w\") as file:\n",
    "        print(f\"{nm}: {col}\")\n",
    "    with open(\"user_info.txt\",\"r\") as file:\n",
    "        cont=file.read()\n",
    "        print(cont)\n",
    "nmCol()\n"
   ]
  },
  {
   "cell_type": "code",
   "execution_count": 1,
   "metadata": {},
   "outputs": [
    {
     "name": "stdout",
     "output_type": "stream",
     "text": [
      "There are 2 words.\n"
     ]
    }
   ],
   "source": [
    "def wordCount():\n",
    "    with open(\"sample.txt\", \"w\") as file:\n",
    "        content=input(\"Add content to the file:\")\n",
    "        file.write(content)\n",
    "    with open(\"sample.txt\", \"r\") as file:\n",
    "        text=file.read()\n",
    "        count=text.count(\" \")+1\n",
    "        print(f\"There are {count} words.\")\n",
    "wordCount()\n",
    "\n",
    "        "
   ]
  },
  {
   "cell_type": "code",
   "execution_count": null,
   "metadata": {},
   "outputs": [],
   "source": [
    "import csv\n",
    "data=[]\n",
    "while True:\n",
    "    nm=input(\"Enter the student's name: \")\n",
    "    sc=int(input(\"Enter the student's score: \"))\n",
    "    st=[nm,sc]\n",
    "    data.append(st)\n",
    "    stop=input(\"Enter s to stop or press other key to continue: \")\n",
    "    if stop==\"s\":\n",
    "        break\n",
    "\n",
    "with open('data.csv', mode='w', newline='') as file:\n",
    "    csvW = csv.writer(file)\n",
    "    csvW.writerow(['Name', 'Score'])  # Adding header row\n",
    "    csvW.writerows(data)\n",
    "with open('data.csv', mode='r', newline='') as file:\n",
    "    csvR=csv.reader(file)\n",
    "    for row in csvR:\n",
    "        print(row)\n",
    "\n"
   ]
  }
 ],
 "metadata": {
  "kernelspec": {
   "display_name": "Python 3 (ipykernel)",
   "language": "python",
   "name": "python3"
  },
  "language_info": {
   "codemirror_mode": {
    "name": "ipython",
    "version": 3
   },
   "file_extension": ".py",
   "mimetype": "text/x-python",
   "name": "python",
   "nbconvert_exporter": "python",
   "pygments_lexer": "ipython3",
   "version": "3.12.1"
  }
 },
 "nbformat": 4,
 "nbformat_minor": 2
}
