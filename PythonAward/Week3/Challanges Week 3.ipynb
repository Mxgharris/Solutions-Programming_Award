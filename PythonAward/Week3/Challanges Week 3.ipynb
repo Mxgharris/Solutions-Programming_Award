{
 "cells": [
  {
   "cell_type": "code",
   "execution_count": 9,
   "metadata": {},
   "outputs": [],
   "source": [
    "from math import sqrt as s, pi as pi\n",
    "def circCalcs():\n",
    "    radi= int(input(\"Enter the radius of the circle: \"))\n",
    "    unit= input(\"Enter the units of the radius: \")\n",
    "    print(f'''The area of the circle is {pi*radi**2:.5f}{unit}^3\n",
    "The circumferance of the circle is {pi*2*radi:.5f}{unit}^2''')\n",
    "    \n",
    "from random import randint as r\n",
    "def diceRoll():\n",
    "    r1=r(1,6)\n",
    "    r2=r(1,6)\n",
    "    print(f\"Roll one is {r1} and roll two is {r2}, and the sum is {r1+r2}.\")\n",
    "    \n",
    "from time import sleep as sl\n",
    "def countDown():\n",
    "    c=int(input(\"Enter the time to count down from in seconds: \"))\n",
    "    for i in range(c,-1,-1):\n",
    "        print(i)\n",
    "        sl(1)\n",
    "        \n",
    "import string\n",
    "import random\n",
    "def passwordGen(length):\n",
    "    u=string.ascii_uppercase\n",
    "    l=string.ascii_lowercase\n",
    "    d=string.digits\n",
    "    sp=string.punctuation\n",
    "    allch=u+l+d+sp\n",
    "    password= \"\".join(random.choice(allch) for _ in range(length))\n",
    "    return password\n",
    "\n",
    "from time import time as t\n",
    "def timer():\n",
    "    input(\"Press enter to start the timer.\")\n",
    "    st=t()\n",
    "    input(\"Press enter to end timer.\")\n",
    "    end=t()\n",
    "    print(f\"The elapsed time is {end-st:.4f} seconds\")\n",
    "        \n",
    "    "
   ]
  },
  {
   "cell_type": "code",
   "execution_count": 3,
   "metadata": {},
   "outputs": [
    {
     "name": "stdout",
     "output_type": "stream",
     "text": [
      "The area of the circle is 78.53982cm^3\n",
      "The circumferance of the circle is 31.41593cm^2\n"
     ]
    }
   ],
   "source": [
    "circCalcs()"
   ]
  },
  {
   "cell_type": "code",
   "execution_count": 4,
   "metadata": {},
   "outputs": [
    {
     "name": "stdout",
     "output_type": "stream",
     "text": [
      "Roll one is 3 and roll two is 4, and the sum is 7.\n"
     ]
    }
   ],
   "source": [
    "diceRoll()"
   ]
  },
  {
   "cell_type": "code",
   "execution_count": 5,
   "metadata": {},
   "outputs": [
    {
     "name": "stdout",
     "output_type": "stream",
     "text": [
      "24\n",
      "23\n",
      "22\n",
      "21\n",
      "20\n",
      "19\n",
      "18\n",
      "17\n",
      "16\n",
      "15\n",
      "14\n",
      "13\n",
      "12\n",
      "11\n",
      "10\n",
      "9\n",
      "8\n",
      "7\n",
      "6\n",
      "5\n",
      "4\n",
      "3\n",
      "2\n",
      "1\n",
      "0\n"
     ]
    }
   ],
   "source": [
    "countDown()"
   ]
  },
  {
   "cell_type": "code",
   "execution_count": 7,
   "metadata": {},
   "outputs": [
    {
     "data": {
      "text/plain": [
       "'?u4930|KMWHT'"
      ]
     },
     "execution_count": 7,
     "metadata": {},
     "output_type": "execute_result"
    }
   ],
   "source": [
    "passwordGen(12)"
   ]
  },
  {
   "cell_type": "code",
   "execution_count": 10,
   "metadata": {},
   "outputs": [
    {
     "name": "stdout",
     "output_type": "stream",
     "text": [
      "The elapsed time is 2.8603 seconds\n"
     ]
    }
   ],
   "source": [
    "timer()"
   ]
  }
 ],
 "metadata": {
  "kernelspec": {
   "display_name": "Python 3 (ipykernel)",
   "language": "python",
   "name": "python3"
  },
  "language_info": {
   "codemirror_mode": {
    "name": "ipython",
    "version": 3
   },
   "file_extension": ".py",
   "mimetype": "text/x-python",
   "name": "python",
   "nbconvert_exporter": "python",
   "pygments_lexer": "ipython3",
   "version": "3.12.1"
  }
 },
 "nbformat": 4,
 "nbformat_minor": 2
}
