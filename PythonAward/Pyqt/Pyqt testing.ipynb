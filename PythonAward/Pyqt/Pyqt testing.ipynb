{
 "cells": [
  {
   "cell_type": "code",
   "execution_count": 5,
   "id": "ca836cdf",
   "metadata": {},
   "outputs": [
    {
     "ename": "ImportError",
     "evalue": "libGL.so.1: cannot open shared object file: No such file or directory",
     "output_type": "error",
     "traceback": [
      "\u001b[31m---------------------------------------------------------------------------\u001b[39m",
      "\u001b[31mImportError\u001b[39m                               Traceback (most recent call last)",
      "\u001b[36mCell\u001b[39m\u001b[36m \u001b[39m\u001b[32mIn[5]\u001b[39m\u001b[32m, line 1\u001b[39m\n\u001b[32m----> \u001b[39m\u001b[32m1\u001b[39m \u001b[38;5;28;01mfrom\u001b[39;00m\u001b[38;5;250m \u001b[39m\u001b[34;01mPyQt5\u001b[39;00m\u001b[38;5;250m \u001b[39m\u001b[38;5;28;01mimport\u001b[39;00m QtCore, QtGui, QtWidgets, uic\n\u001b[32m      2\u001b[39m \u001b[38;5;28;01mimport\u001b[39;00m\u001b[38;5;250m \u001b[39m\u001b[34;01msys\u001b[39;00m\n\u001b[32m      3\u001b[39m \u001b[38;5;28;01mimport\u001b[39;00m\u001b[38;5;250m \u001b[39m\u001b[34;01msqlite3\u001b[39;00m\n",
      "\u001b[31mImportError\u001b[39m: libGL.so.1: cannot open shared object file: No such file or directory"
     ]
    }
   ],
   "source": [
    "from PyQt5 import QtCore, QtGui, QtWidgets, uic\n",
    "import sys\n",
    "import sqlite3\n",
    "from PyQt5.QtCore import Qt\n",
    "\n",
    "def dbconnection(dbfile):\n",
    "    conn= sqlite3.connect(dbfile)\n",
    "    cur=conn.cursor()\n",
    "    print(\"Connection success!!\")\n",
    "    return conn, cur\n",
    "\n",
    "'''conn = sqlite3.connect(\"loginInfo.db\")\n",
    "cur = conn.cursor()\n",
    "\n",
    "user = \"Test\"\n",
    "pass = \"Password\"\n",
    "\n",
    "cur.execute(\"INSERT INTO tbllogin (username, password) VALUES (?, ?)\", (user, pass))\n",
    "conn.commit()\n",
    "\n",
    "print(f\"User '{user}' added successfully.\")\n",
    "\n",
    "conn.close()'''\n",
    "\n",
    "# create the widget class - each window must have its own class\n",
    "class Ui(QtWidgets.QMainWindow):\n",
    "    \"\"\"Window class based on the ui xml file created in QT Designer\"\"\"\n",
    "\n",
    "    def __init__(self):\n",
    "        super(Ui, self).__init__()\n",
    "        uic.loadUi(\"login.ui\", self)\n",
    "        \n",
    "        self.conn, self.cur=dbconnection(\"loginInfo.db\")\n",
    "        self.cur.execute('''CREATE TABLE IF NOT EXISTS tbllogin(username TEXT, password TEXT)''')\n",
    "        print(\"Table success!!\")\n",
    "\n",
    "        self.attempts_remaining = 3  # variable to keep track of login attempts\n",
    "                # add button event listeners\n",
    "        self.btnLogin.clicked.connect(self.loginButtonMethod)\n",
    "        self.btnClear.clicked.connect(self.clearButtonMethod)\n",
    "\n",
    "        # show the window\n",
    "        self.show()\n",
    "    def loginButtonMethod(self):\n",
    "        username = self.LnEdtUsername.text()\n",
    "        password = self.LnEdtPassword.text()\n",
    "        \n",
    "        self.cur.execute(\"SELECT * FROM tbllogin WHERE username=? AND password=?\", (username, password))\n",
    "        result = self.cur.fetchone()\n",
    "\n",
    "        if result:\n",
    "            QtWidgets.QMessageBox.information(self, \"Login\", \"Login Successful!\")\n",
    "        else:\n",
    "            self.attempts_remaining -= 1\n",
    "            QtWidgets.QMessageBox.warning(self, \"Login Failed\", f\"Incorrect credentials. Attempts left: {self.attempts_remaining}\")\n",
    "            if self.attempts_remaining <= 0:\n",
    "                QtWidgets.QMessageBox.critical(self, \"Locked Out\", \"No login attempts left.\")\n",
    "                self.close()\n",
    "    def clearButtonMethod(self):\n",
    "        self.LnEdtUsername.clear()\n",
    "        self.LnEdtPassword.clear()\n",
    "\n",
    "\n",
    "\n",
    "\n",
    "def mainApplication():\n",
    "    \"\"\"Main application that will load the window instance\"\"\"\n",
    "    app = QtWidgets.QApplication(sys.argv)\n",
    "    window = Ui()\n",
    "    window.show()\n",
    "\n",
    "    app.quit()  # quit when all windows are closed\n",
    "    sys.exit(app.exec_())  # execute the application event loop\n",
    "    \n",
    "    \n",
    "mainApplication()"
   ]
  },
  {
   "cell_type": "markdown",
   "id": "325afe74",
   "metadata": {},
   "source": [
    "<video controls src=\"20250701-1004-24.5797291.mp4\" title=\"Title\"></video>"
   ]
  }
 ],
 "metadata": {
  "kernelspec": {
   "display_name": "Python 3 (ipykernel)",
   "language": "python",
   "name": "python3"
  },
  "language_info": {
   "codemirror_mode": {
    "name": "ipython",
    "version": 3
   },
   "file_extension": ".py",
   "mimetype": "text/x-python",
   "name": "python",
   "nbconvert_exporter": "python",
   "pygments_lexer": "ipython3",
   "version": "3.12.1"
  }
 },
 "nbformat": 4,
 "nbformat_minor": 5
}
