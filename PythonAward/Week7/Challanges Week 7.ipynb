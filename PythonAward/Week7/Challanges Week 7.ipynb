{
 "cells": [
  {
   "cell_type": "code",
   "execution_count": 13,
   "metadata": {},
   "outputs": [
    {
     "name": "stdout",
     "output_type": "stream",
     "text": [
      "Name: Max, Age:16, Grade: 90\n",
      "Name: Alex, Age:9, Grade: 10\n"
     ]
    }
   ],
   "source": [
    "class Student:\n",
    "    def __init__(self, name, age, grade):\n",
    "        self.name=name\n",
    "        self.age=age\n",
    "        self.grade=grade\n",
    "    def display_info(self):\n",
    "        print(f\"Name: {self.name}, Age:{self.age}, Grade: {self.grade}\")\n",
    "    def update_grade(self, newG):\n",
    "        self.grade=newG\n",
    "\n",
    "stu1=Student(\"Max\", 16, 80)\n",
    "stu2=Student(\"Alex\", 9, 10)\n",
    "stu1.update_grade(90)\n",
    "stu1.display_info()\n",
    "stu2.display_info()\n"
   ]
  },
  {
   "cell_type": "code",
   "execution_count": 16,
   "metadata": {},
   "outputs": [
    {
     "name": "stdout",
     "output_type": "stream",
     "text": [
      "Title: r, Author: t, Year: 2000\n"
     ]
    },
    {
     "data": {
      "text/plain": [
       "True"
      ]
     },
     "execution_count": 16,
     "metadata": {},
     "output_type": "execute_result"
    }
   ],
   "source": [
    "class Book:\n",
    "    def __init__(self, title, author, year):\n",
    "        self.title=title\n",
    "        self.author=author\n",
    "        self.year=year\n",
    "    def book_info(self):\n",
    "        print(f\"Title: {self.title}, Author: {self.author}, Year: {self.year}\")\n",
    "    def isClassic(self):\n",
    "        if self.year<1970:\n",
    "            return True\n",
    "        else:\n",
    "            return False\n",
    "\n",
    "b1=Book(\"l\",\"e\",1700)\n",
    "b2=Book(\"r\",\"t\",2000)\n",
    "b2.book_info()\n",
    "b1.isClassic()"
   ]
  }
 ],
 "metadata": {
  "kernelspec": {
   "display_name": "Python 3 (ipykernel)",
   "language": "python",
   "name": "python3"
  },
  "language_info": {
   "codemirror_mode": {
    "name": "ipython",
    "version": 3
   },
   "file_extension": ".py",
   "mimetype": "text/x-python",
   "name": "python",
   "nbconvert_exporter": "python",
   "pygments_lexer": "ipython3",
   "version": "3.12.1"
  }
 },
 "nbformat": 4,
 "nbformat_minor": 2
}
