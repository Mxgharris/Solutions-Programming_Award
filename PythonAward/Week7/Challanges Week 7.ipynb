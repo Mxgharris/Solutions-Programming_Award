{
 "cells": [
  {
   "cell_type": "code",
   "execution_count": 1,
   "metadata": {},
   "outputs": [
    {
     "name": "stdout",
     "output_type": "stream",
     "text": [
      "Name: Max, Age:16, Grade: 90\n",
      "Name: James, Age:109273, Grade: 1\n"
     ]
    }
   ],
   "source": [
    "class Student:\n",
    "    def __init__(self, name, age, grade):\n",
    "        self.name=name\n",
    "        self.age=age\n",
    "        self.grade=grade\n",
    "    def display_info(self):\n",
    "        print(f\"Name: {self.name}, Age:{self.age}, Grade: {self.grade}\")\n",
    "    def update_grade(self, newG):\n",
    "        self.grade=newG\n",
    "\n",
    "stu1=Student(\"Max\", 16, 80)\n",
    "stu2=Student(\"James\", 109273, 1)\n",
    "stu1.update_grade(90)\n",
    "stu1.display_info()\n",
    "stu2.display_info()\n"
   ]
  },
  {
   "cell_type": "code",
   "execution_count": 16,
   "metadata": {},
   "outputs": [
    {
     "name": "stdout",
     "output_type": "stream",
     "text": [
      "Title: r, Author: t, Year: 2000\n"
     ]
    },
    {
     "data": {
      "text/plain": [
       "True"
      ]
     },
     "execution_count": 16,
     "metadata": {},
     "output_type": "execute_result"
    }
   ],
   "source": [
    "class Book:\n",
    "    def __init__(self, title, author, year):\n",
    "        self.title=title\n",
    "        self.author=author\n",
    "        self.year=year\n",
    "    def book_info(self):\n",
    "        print(f\"Title: {self.title}, Author: {self.author}, Year: {self.year}\")\n",
    "    def isClassic(self):\n",
    "        if self.year<1970:\n",
    "            return True\n",
    "        else:\n",
    "            return False\n",
    "\n",
    "b1=Book(\"l\",\"e\",1700)\n",
    "b2=Book(\"r\",\"t\",2000)\n",
    "b2.book_info()\n",
    "b1.isClassic()"
   ]
  },
  {
   "cell_type": "code",
   "execution_count": 3,
   "metadata": {},
   "outputs": [
    {
     "name": "stdout",
     "output_type": "stream",
     "text": [
      "Insufficent funds!!!\n",
      "Account 001 has a balance of £10001000000\n",
      "Account 002 has a balance of £10\n",
      "Account 003 has a balance of £9990\n",
      "-----Transaction History-----\n",
      "Account 001 has deposited 10000000000.\n",
      "Account 003 has withdrawn 10.\n"
     ]
    }
   ],
   "source": [
    "hist=[]\n",
    "class BankAc:\n",
    "    def __init__(self, an, bal):\n",
    "        self.an=an\n",
    "        self.bal=bal\n",
    "    def depos(self, dep):\n",
    "        self.bal+=dep\n",
    "        hist.append(f\"Account {self.an} has deposited {dep}.\")\n",
    "    def deduct(self, ded):\n",
    "        if self.bal >=ded:\n",
    "            self.bal-=ded\n",
    "            hist.append(f\"Account {self.an} has withdrawn {ded}.\")\n",
    "        else:\n",
    "            print(\"Insufficent funds!!!\")\n",
    "    def display(self):\n",
    "        print(f\"Account {self.an} has a balance of £{self.bal}\")\n",
    "Max=BankAc(\"001\",1000000)\n",
    "Alex=BankAc(\"002\", 10)\n",
    "Alice=BankAc(\"003\", 10000)\n",
    "Max.depos(10000000000)\n",
    "Alex.deduct(1000)\n",
    "Alice.deduct(10)\n",
    "Max.display()\n",
    "Alex.display()\n",
    "Alice.display()\n",
    "print(\"-----Transaction History-----\")\n",
    "for i in range(len(hist)):\n",
    "    print(hist[i])"
   ]
  },
  {
   "cell_type": "code",
   "execution_count": 2,
   "metadata": {},
   "outputs": [
    {
     "name": "stdout",
     "output_type": "stream",
     "text": [
      "Engine started of the car with brand:Tesla, model:X, year:2019, total fuel:10\n",
      "10l of fuel remaining\n",
      "9l of fuel remaining\n",
      "8l of fuel remaining\n",
      "7l of fuel remaining\n",
      "6l of fuel remaining\n",
      "5l of fuel remaining\n",
      "4l of fuel remaining\n",
      "3l of fuel remaining\n",
      "2l of fuel remaining\n",
      "1l of fuel remaining\n",
      "Engine stopped of the car with brand:Tesla, model:X, year:2019, 0 fuel remaining\n",
      "Engine started of the car with brand:Fiat, model:Fiat500, year:2015, total fuel:20\n",
      "20l of fuel remaining\n",
      "19l of fuel remaining\n",
      "18l of fuel remaining\n",
      "17l of fuel remaining\n",
      "16l of fuel remaining\n",
      "15l of fuel remaining\n",
      "14l of fuel remaining\n",
      "13l of fuel remaining\n",
      "12l of fuel remaining\n",
      "11l of fuel remaining\n",
      "10l of fuel remaining\n",
      "9l of fuel remaining\n",
      "8l of fuel remaining\n",
      "7l of fuel remaining\n",
      "6l of fuel remaining\n",
      "5l of fuel remaining\n",
      "4l of fuel remaining\n",
      "3l of fuel remaining\n",
      "2l of fuel remaining\n",
      "1l of fuel remaining\n",
      "Engine stopped of the car with brand:Fiat, model:Fiat500, year:2015, 0 fuel remaining\n"
     ]
    }
   ],
   "source": [
    "class Car:\n",
    "    def __init__(self, br, mod, ye, fuel):\n",
    "        self.br=br\n",
    "        self.mod=mod\n",
    "        self.ye=ye\n",
    "        self.fuel=fuel\n",
    "    def stEng(self):\n",
    "        print(f\"Engine started of the car with brand:{self.br}, model:{self.mod}, year:{self.ye}, total fuel:{self.fuel}\")\n",
    "    def spEng(self):\n",
    "        print(f\"Engine stopped of the car with brand:{self.br}, model:{self.mod}, year:{self.ye}, 0 fuel remaining\")\n",
    "    def fueltime(self):\n",
    "        self.stEng()\n",
    "        for i in range(self.fuel,0,-1):\n",
    "            print(f\"{i}l of fuel remaining\")\n",
    "        self.spEng()\n",
    "c1=Car(\"Tesla\", \"X\", \"2019\",10)\n",
    "c2=Car(\"Fiat\",\"Fiat500\",\"2015\",20)\n",
    "c1.fueltime()\n",
    "c2.fueltime()"
   ]
  },
  {
   "cell_type": "code",
   "execution_count": null,
   "metadata": {},
   "outputs": [],
   "source": []
  }
 ],
 "metadata": {
  "kernelspec": {
   "display_name": "Python 3 (ipykernel)",
   "language": "python",
   "name": "python3"
  }
 },
 "nbformat": 4,
 "nbformat_minor": 2
}
