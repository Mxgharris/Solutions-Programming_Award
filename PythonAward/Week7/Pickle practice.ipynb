{
 "cells": [
  {
   "cell_type": "code",
   "execution_count": 6,
   "id": "c575d452",
   "metadata": {},
   "outputs": [
    {
     "name": "stdout",
     "output_type": "stream",
     "text": [
      "Name: Max, Age:16, Grade: 90\n",
      "Name: Alex, Age:9, Grade: 10\n",
      "Max\n",
      "16\n",
      "90\n",
      "Name: Max, Age:16, Grade: 100\n",
      "Alex\n",
      "9\n",
      "10\n",
      "Name: Alex, Age:9, Grade: 100\n"
     ]
    }
   ],
   "source": [
    "import pickle\n",
    "class Student:\n",
    "    def __init__(self, name, age, grade):\n",
    "        self.name=name\n",
    "        self.age=age\n",
    "        self.grade=grade\n",
    "    def display_info(self):\n",
    "        print(f\"Name: {self.name}, Age:{self.age}, Grade: {self.grade}\")\n",
    "    def update_grade(self, newG):\n",
    "        self.grade=newG\n",
    "\n",
    "stu1=Student(\"Max\", 16, 80)\n",
    "stu2=Student(\"Alex\", 9, 10)\n",
    "stu1.update_grade(90)\n",
    "stu1.display_info()\n",
    "stu2.display_info()\n",
    "students=(stu1, stu2)\n",
    "with open(\"students.pkl\", \"wb\") as file:\n",
    "    pickle.dump(students, file)\n",
    "with open(\"students.pkl\", \"rb\") as file:\n",
    "    lStus=pickle.load(file)\n",
    "for i in range(0,2):\n",
    "    print(lStus[i].name)\n",
    "    print(lStus[i].age)\n",
    "    print(lStus[i].grade)\n",
    "    lStus[i].update_grade(100)\n",
    "    lStus[i].display_info()\n",
    "\n",
    "\n",
    "\n"
   ]
  }
 ],
 "metadata": {
  "kernelspec": {
   "display_name": "Python 3 (ipykernel)",
   "language": "python",
   "name": "python3"
  },
  "language_info": {
   "codemirror_mode": {
    "name": "ipython",
    "version": 3
   },
   "file_extension": ".py",
   "mimetype": "text/x-python",
   "name": "python",
   "nbconvert_exporter": "python",
   "pygments_lexer": "ipython3",
   "version": "3.12.1"
  }
 },
 "nbformat": 4,
 "nbformat_minor": 5
}
