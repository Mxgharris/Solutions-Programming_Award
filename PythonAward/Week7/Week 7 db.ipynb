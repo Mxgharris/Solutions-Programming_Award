{
 "cells": [
  {
   "cell_type": "code",
   "execution_count": 9,
   "id": "98b8838a",
   "metadata": {},
   "outputs": [],
   "source": [
    "import sqlite3"
   ]
  },
  {
   "cell_type": "code",
   "execution_count": 10,
   "id": "0cc4ae5f",
   "metadata": {},
   "outputs": [],
   "source": [
    "def dbconnection(dbfile):\n",
    "    conn = sqlite3.connect(dbfile)\n",
    "    cur = conn.cursor()\n",
    "    print(\"Connection successful\")\n",
    "    return conn,cur"
   ]
  },
  {
   "cell_type": "code",
   "execution_count": 11,
   "id": "b79964d0",
   "metadata": {},
   "outputs": [
    {
     "name": "stdout",
     "output_type": "stream",
     "text": [
      "Connection successful\n"
     ]
    },
    {
     "data": {
      "text/plain": [
       "(<sqlite3.Connection at 0x739e37f157b0>, <sqlite3.Cursor at 0x739e54366340>)"
      ]
     },
     "execution_count": 11,
     "metadata": {},
     "output_type": "execute_result"
    }
   ],
   "source": [
    "dbconnection(\"students.db\")"
   ]
  },
  {
   "cell_type": "code",
   "execution_count": 12,
   "id": "f79c9141",
   "metadata": {},
   "outputs": [
    {
     "name": "stdout",
     "output_type": "stream",
     "text": [
      "Connection successful\n",
      "The table was created successfully\n"
     ]
    }
   ],
   "source": [
    "conn, cur= dbconnection(\"students.db\")\n",
    "cur.execute('''\n",
    "      CREATE TABLE IF NOT EXISTS tblstudents (\n",
    "      id INTEGER PRIMARY KEY AUTOINCREMENT,\n",
    "      name TEXT,\n",
    "      age INTEGER,\n",
    "      grade TEXT)''')\n",
    "print(\"The table was created successfully\")"
   ]
  },
  {
   "cell_type": "code",
   "execution_count": 13,
   "id": "f9b12f2d",
   "metadata": {},
   "outputs": [
    {
     "data": {
      "text/plain": [
       "<sqlite3.Cursor at 0x739e54366fc0>"
      ]
     },
     "execution_count": 13,
     "metadata": {},
     "output_type": "execute_result"
    }
   ],
   "source": [
    "cur.executescript('''\n",
    "INSERT INTO tblstudents (name, age, grade)\n",
    "VALUES ('Freddie', 17, 'A');\n",
    "\n",
    "INSERT INTO tblstudents (name, age, grade)\n",
    "VALUES ('Corinna', 16, 'B');\n",
    "''')"
   ]
  },
  {
   "cell_type": "code",
   "execution_count": 14,
   "id": "d049f81e",
   "metadata": {},
   "outputs": [
    {
     "name": "stdout",
     "output_type": "stream",
     "text": [
      "(1, 'Freddie', 17, 'A')\n",
      "(2, 'Corinna', 16, 'B')\n",
      "(3, 'Freddie', 17, 'A')\n",
      "(4, 'Corinna', 16, 'B')\n"
     ]
    }
   ],
   "source": [
    "cur.execute(''' SELECT * FROM tblstudents''')\n",
    "rows =cur.fetchall()\n",
    "for row in rows:\n",
    "    print(row)\n",
    "conn.close()"
   ]
  },
  {
   "cell_type": "code",
   "execution_count": 26,
   "id": "2cee3074",
   "metadata": {},
   "outputs": [
    {
     "name": "stdout",
     "output_type": "stream",
     "text": [
      "Connection successful\n",
      "['id', 'name', 'age', 'grade']\n",
      "(1, 'Freddie', 17, 'A')\n",
      "(2, 'Corinna', 16, 'B')\n",
      "(3, 'Freddie', 17, 'A')\n",
      "(4, 'Corinna', 16, 'B')\n"
     ]
    }
   ],
   "source": [
    "def select_display_results(dbpath,query_string):\n",
    "    conn,cur = dbconnection(dbpath)\n",
    "    #1. Execute the query\n",
    "    cur.execute(f'''{query_string}''')\n",
    "    #2. Fetch all rows\n",
    "    rows = cur.fetchall()\n",
    "    #print data\n",
    "    feilds= cur.description\n",
    "    nms=[]\n",
    "    for i in range(len(feilds)):\n",
    "        nms.append(feilds[i][0])\n",
    "    print(nms)\n",
    "    for row in rows:\n",
    "        print(row)\n",
    "\n",
    "select_display_results(\"students.db\",\"SELECT * FROM tblstudents\")"
   ]
  },
  {
   "cell_type": "code",
   "execution_count": 28,
   "id": "690f8dea",
   "metadata": {},
   "outputs": [
    {
     "name": "stdout",
     "output_type": "stream",
     "text": [
      "Connection successful\n",
      "Connection successful\n",
      "['name', 'grade']\n",
      "('Corinna', 'C')\n",
      "('Corinna', 'C')\n"
     ]
    }
   ],
   "source": [
    "conn,cur = dbconnection(\"students.db\")\n",
    "#1. update the record\n",
    "cur.execute(f'''UPDATE tblstudents SET grade =\"C\" WHERE name =\"Corinna\"''')\n",
    "conn.commit()\n",
    "#2. Confirm the changes happened\n",
    "select_display_results(\"students.db\",\"SELECT name, grade FROM tblstudents WHERE name = 'Corinna'\")"
   ]
  },
  {
   "cell_type": "code",
   "execution_count": 29,
   "id": "24522ca2",
   "metadata": {},
   "outputs": [
    {
     "name": "stdout",
     "output_type": "stream",
     "text": [
      "Connection successful\n",
      "New record successfully added\n"
     ]
    }
   ],
   "source": [
    "name = input(\"Name: \")\n",
    "age  = int(input(\"Age: \"))\n",
    "grade = input(\"Grade:\")\n",
    "\n",
    "#Connect to the database\n",
    "conn,cur = dbconnection(\"students.db\")\n",
    "\n",
    "#insert data into the database\n",
    "query = \"INSERT INTO tblstudents (name, age, grade) VALUES (?,?,?)\"\n",
    "\n",
    "#execute the query\n",
    "cur.execute(query,(name,age, grade))\n",
    "conn.commit()\n",
    "print(\"New record successfully added\")\n",
    "conn.close()"
   ]
  }
 ],
 "metadata": {
  "kernelspec": {
   "display_name": "Python 3 (ipykernel)",
   "language": "python",
   "name": "python3"
  },
  "language_info": {
   "codemirror_mode": {
    "name": "ipython",
    "version": 3
   },
   "file_extension": ".py",
   "mimetype": "text/x-python",
   "name": "python",
   "nbconvert_exporter": "python",
   "pygments_lexer": "ipython3",
   "version": "3.12.1"
  }
 },
 "nbformat": 4,
 "nbformat_minor": 5
}
