{
 "cells": [
  {
   "cell_type": "code",
   "execution_count": null,
   "id": "7f37ee81",
   "metadata": {},
   "outputs": [],
   "source": [
    "import sqlite3\n",
    "  def dbconnection(dbfile):\n",
    "    '''creates connection and cursor objects which allow you to work with the database'''\n",
    "    conn = sqlite3.connect(dbfile)\n",
    "    cur = conn.cursor()\n",
    "    print(\"Connection was successful\")\n",
    "    return conn, cur\n",
    "  conn, cur = dbconnection(\"students.db\")\n",
    "  cur.execute('''\n",
    "      CREATE TABLE IF NOT EXISTS tblstudents (\n",
    "      id INTEGER PRIMARY KEY AUTOINCREMENT,\n",
    "      name TEXT,\n",
    "      age INTEGER,\n",
    "      grade TEXT)''')\n",
    "     print(\"The table was created successfully\")"
   ]
  }
 ],
 "metadata": {
  "kernelspec": {
   "display_name": "Python 3 (ipykernel)",
   "language": "python",
   "name": "python3"
  }
 },
 "nbformat": 4,
 "nbformat_minor": 5
}
