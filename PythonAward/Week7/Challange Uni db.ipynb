{
 "cells": [
  {
   "cell_type": "code",
   "execution_count": null,
   "id": "c85383fc",
   "metadata": {},
   "outputs": [],
   "source": [
    "import sqlite3"
   ]
  },
  {
   "cell_type": "code",
   "execution_count": 2,
   "id": "fb5a26ae",
   "metadata": {},
   "outputs": [],
   "source": [
    "def dbConnection(dbfile):\n",
    "    conn=sqlite3.connect(dbfile)\n",
    "    cur=conn.cursor()\n",
    "    print(\"Connection sucessful!!\")\n",
    "    return conn, cur"
   ]
  },
  {
   "cell_type": "code",
   "execution_count": 3,
   "id": "d8f8cb1b",
   "metadata": {},
   "outputs": [
    {
     "name": "stdout",
     "output_type": "stream",
     "text": [
      "Connection sucessful!!\n"
     ]
    },
    {
     "data": {
      "text/plain": [
       "(<sqlite3.Connection at 0x793a402f1120>, <sqlite3.Cursor at 0x793a402bc240>)"
      ]
     },
     "execution_count": 3,
     "metadata": {},
     "output_type": "execute_result"
    }
   ],
   "source": [
    "dbConnection(\"university_projects.db\")"
   ]
  },
  {
   "cell_type": "code",
   "execution_count": 4,
   "id": "ab018c21",
   "metadata": {},
   "outputs": [
    {
     "name": "stdout",
     "output_type": "stream",
     "text": [
      "Connection sucessful!!\n",
      "Table created successfully\n"
     ]
    }
   ],
   "source": [
    "conn, cur=dbConnection(\"university_projects.db\")\n",
    "cur.execute('''CREATE TABLE IF NOT EXISTS tblprojects(\n",
    "id INTEGER PRIMARY KEY AUTOINCREMENT,\n",
    "stuNm TEXT NOT NULL,\n",
    "projTi TEXT NOT NULL,\n",
    "superNm TEXT,\n",
    "feild TEXT,\n",
    "year INTEGER)''')\n",
    "print(\"Table created successfully\")"
   ]
  },
  {
   "cell_type": "code",
   "execution_count": 5,
   "id": "1df449dc",
   "metadata": {},
   "outputs": [],
   "source": [
    "def numvalida(txt):\n",
    "    while True:\n",
    "        try:\n",
    "            num=int(input(txt))\n",
    "            break\n",
    "        except:\n",
    "            print(\"That is not a number!!!\")\n",
    "    return num"
   ]
  },
  {
   "cell_type": "code",
   "execution_count": 6,
   "id": "1e20afaa",
   "metadata": {},
   "outputs": [
    {
     "name": "stdout",
     "output_type": "stream",
     "text": [
      "3 project(s) added successfully.\n"
     ]
    }
   ],
   "source": [
    "num=numvalida(\"Please enter the number of projects you want to add: \")\n",
    "for i in range(0,num):\n",
    "    stuNm=input(\"Enter the name of the student: \")\n",
    "    projTi=input(\"Enter the title of the project: \")\n",
    "    superNm=input(\"Enter the name of the superviser: \")\n",
    "    feild= input(\"Enter the feild of study: \")\n",
    "    year=numvalida(\"Enter the year: \")\n",
    "    cur.execute('''INSERT INTO tblprojects (stuNm, projTi, superNm, feild, year) VALUES (?, ?, ?, ?, ?)''', (stuNm, projTi, superNm, feild, year))\n",
    "    conn.commit()\n",
    "print(f\"{num} project(s) added successfully.\")"
   ]
  },
  {
   "cell_type": "code",
   "execution_count": null,
   "id": "64901e86",
   "metadata": {},
   "outputs": [
    {
     "name": "stdout",
     "output_type": "stream",
     "text": [
      "(1, 'Max', 'Quantum entanglement', 'Hutch', 'Physics', 2060)\n",
      "(2, 'Alex', 'Probability fields', 'Mr jiang', 'Physics', 2089)\n",
      "(3, 'Alice', 'Wave particle duality', 'Miss McNally', 'Physics', 2222)\n"
     ]
    }
   ],
   "source": [
    "def displayAllResults():\n",
    "    cur.execute(''' SELECT * FROM tblprojects''')\n",
    "    rows =cur.fetchall()\n",
    "    for row in rows:\n",
    "        print(row)\n",
    "    conn.close()\n",
    "displayAllResults()"
   ]
  },
  {
   "cell_type": "code",
   "execution_count": 7,
   "id": "5ca8cb4b",
   "metadata": {},
   "outputs": [
    {
     "name": "stdout",
     "output_type": "stream",
     "text": [
      "Connection sucessful!!\n",
      "(1, 'Max', 'Quantum entanglement', 'Mr Hutchings', 'Physics', 2060)\n",
      "(2, 'Alex', 'Probability fields', 'Mr jiang', 'Physics', 2089)\n",
      "(3, 'Alice', 'Wave particle duality', 'Miss McNally', 'Physics', 2222)\n"
     ]
    }
   ],
   "source": [
    "conn, cur =dbConnection(\"university_projects.db\")\n",
    "stuNm=input(\"Enter the name of the student: \")\n",
    "superNm=input(\"Enter the name of the new supervisor\")\n",
    "cur.execute('''UPDATE tblprojects SET superNm =? WHERE stuNm=?''',(superNm, stuNm))\n",
    "displayAllResults()"
   ]
  }
 ],
 "metadata": {
  "kernelspec": {
   "display_name": "Python 3 (ipykernel)",
   "language": "python",
   "name": "python3"
  }
 },
 "nbformat": 4,
 "nbformat_minor": 5
}
