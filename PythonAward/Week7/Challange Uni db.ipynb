{
 "cells": [
  {
   "cell_type": "code",
   "execution_count": null,
   "id": "c85383fc",
   "metadata": {},
   "outputs": [],
   "source": [
    "import sqlite3"
   ]
  },
  {
   "cell_type": "code",
   "execution_count": null,
   "id": "fb5a26ae",
   "metadata": {},
   "outputs": [],
   "source": [
    "def dbConnection(dbfile):\n",
    "    conn=sqlite3.connect(dbfile)\n",
    "    cur=conn.cursor()\n",
    "    print(\"Connection sucessful!!\")\n",
    "    return conn, cur"
   ]
  },
  {
   "cell_type": "code",
   "execution_count": null,
   "id": "d8f8cb1b",
   "metadata": {},
   "outputs": [
    {
     "name": "stdout",
     "output_type": "stream",
     "text": [
      "Connection sucessful!!\n"
     ]
    },
    {
     "data": {
      "text/plain": [
       "(<sqlite3.Connection at 0x71b5afd04f40>, <sqlite3.Cursor at 0x71b5afce3940>)"
      ]
     },
     "execution_count": 3,
     "metadata": {},
     "output_type": "execute_result"
    }
   ],
   "source": [
    "dbConnection(\"university_projects.db\")"
   ]
  },
  {
   "cell_type": "code",
   "execution_count": null,
   "id": "ab018c21",
   "metadata": {},
   "outputs": [],
   "source": [
    "conn, cur=dbConnection(\"university_projects.db\")\n",
    "cur.execute('''CREATE TABLE IF NOT EXISTS tblprojects(\n",
    "id INTEGER PRIMARY KEY AUTOINCREMENT,\n",
    "stuNm TEXT NOT NULL,\n",
    "projTi TEXT NOT NULL,\n",
    "superNm TEXT,\n",
    "feild TEXT,\n",
    "year INTEGER)''')\n",
    "print(\"Table created successfully\")"
   ]
  },
  {
   "cell_type": "code",
   "execution_count": null,
   "id": "1df449dc",
   "metadata": {},
   "outputs": [],
   "source": [
    "def numvalida(txt):\n",
    "    while True:\n",
    "        try:\n",
    "            num=int(input(txt))\n",
    "            break\n",
    "        except:\n",
    "            print(\"That is not a number!!!\")\n",
    "    return num"
   ]
  },
  {
   "cell_type": "code",
   "execution_count": null,
   "id": "1e20afaa",
   "metadata": {},
   "outputs": [
    {
     "name": "stdout",
     "output_type": "stream",
     "text": [
      "That is not a number!!!\n",
      "That is not a number!!!\n",
      "That is not a number!!!\n",
      "That is not a number!!!\n",
      "That is not a number!!!\n",
      "That is not a number!!!\n",
      "That is not a number!!!\n",
      "That is not a number!!!\n",
      "That is not a number!!!\n"
     ]
    },
    {
     "ename": "NameError",
     "evalue": "name 'cur' is not defined",
     "output_type": "error",
     "traceback": [
      "\u001b[31m---------------------------------------------------------------------------\u001b[39m",
      "\u001b[31mNameError\u001b[39m                                 Traceback (most recent call last)",
      "\u001b[36mCell\u001b[39m\u001b[36m \u001b[39m\u001b[32mIn[9]\u001b[39m\u001b[32m, line 9\u001b[39m\n\u001b[32m      6\u001b[39m     feild= \u001b[38;5;28minput\u001b[39m(\u001b[33m\"\u001b[39m\u001b[33mEnter the feild of study: \u001b[39m\u001b[33m\"\u001b[39m)\n\u001b[32m      7\u001b[39m     year=numvalida(\u001b[33m\"\u001b[39m\u001b[33mEnter the year: \u001b[39m\u001b[33m\"\u001b[39m)\n\u001b[32m----> \u001b[39m\u001b[32m9\u001b[39m \u001b[43mcur\u001b[49m.execute()\n",
      "\u001b[31mNameError\u001b[39m: name 'cur' is not defined"
     ]
    }
   ],
   "source": [
    "num=numvalida(\"Please enter the number of projects you want to add: \")\n",
    "for i in range(0,num):\n",
    "    stuNm=input(\"Enter the name of the student: \")\n",
    "    projTi=input(\"Enter the title of the project: \")\n",
    "    superNm=input(\"Enter the name of the superviser: \")\n",
    "    feild= input(\"Enter the feild of study: \")\n",
    "    year=numvalida(\"Enter the year: \")\n",
    "    cur.execute('''INSERT INTO tblprojects (stuNm, projTi, superNm, feild, year) VALUES (?, ?, ?, ?, ?)''', (stuNm, projTi, superNm, feild, year))\n",
    "    conn.commit()\n",
    "print(f\"{num} project(s) added successfully.\")"
   ]
  },
  {
   "cell_type": "code",
   "execution_count": null,
   "id": "64901e86",
   "metadata": {},
   "outputs": [],
   "source": [
    "cur.execute(''' SELECT * FROM tblproects''')\n",
    "rows =cur.fetchall()\n",
    "for row in rows:\n",
    "    print(row)\n",
    "conn.close()"
   ]
  }
 ],
 "metadata": {
  "kernelspec": {
   "display_name": "Python 3 (ipykernel)",
   "language": "python",
   "name": "python3"
  },
  "language_info": {
   "codemirror_mode": {
    "name": "ipython",
    "version": 3
   },
   "file_extension": ".py",
   "mimetype": "text/x-python",
   "name": "python",
   "nbconvert_exporter": "python",
   "pygments_lexer": "ipython3",
   "version": "3.12.1"
  }
 },
 "nbformat": 4,
 "nbformat_minor": 5
}
