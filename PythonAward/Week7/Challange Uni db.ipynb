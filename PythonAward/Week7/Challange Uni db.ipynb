{
 "cells": [
  {
   "cell_type": "code",
   "execution_count": 1,
   "id": "c85383fc",
   "metadata": {},
   "outputs": [],
   "source": [
    "import sqlite3"
   ]
  },
  {
   "cell_type": "code",
   "execution_count": 2,
   "id": "fb5a26ae",
   "metadata": {},
   "outputs": [],
   "source": [
    "def dbConnection(dbfile):\n",
    "    conn=sqlite3.connect(dbfile)\n",
    "    cur=conn.cursor()\n",
    "    print(\"Connection sucessful!!\")\n",
    "    return conn, cur"
   ]
  },
  {
   "cell_type": "code",
   "execution_count": 3,
   "id": "d8f8cb1b",
   "metadata": {},
   "outputs": [
    {
     "name": "stdout",
     "output_type": "stream",
     "text": [
      "Connection sucessful!!\n"
     ]
    },
    {
     "data": {
      "text/plain": [
       "(<sqlite3.Connection at 0x71b5afd04f40>, <sqlite3.Cursor at 0x71b5afce3940>)"
      ]
     },
     "execution_count": 3,
     "metadata": {},
     "output_type": "execute_result"
    }
   ],
   "source": [
    "dbConnection(\"university_projects.db\")"
   ]
  },
  {
   "cell_type": "code",
   "execution_count": null,
   "id": "ab018c21",
   "metadata": {},
   "outputs": [],
   "source": [
    "conn, cur=dbConnection(\"university_projects.db\")\n",
    "cur.execute('''CREATE TABLE IF NOT EXISTS tblprojects(\n",
    "id INTEGER PRIMARY KEY AUTOINCREMENT,\n",
    "stuNm TEXT NOT NULL,\n",
    "projNm TEXT NOT NULL,\n",
    "superNm TEXT,\n",
    "feild TEXT,\n",
    "year INTEGER)''')\n",
    "print(\"Table created successfully\")"
   ]
  },
  {
   "cell_type": "code",
   "execution_count": null,
   "id": "1e20afaa",
   "metadata": {},
   "outputs": [],
   "source": []
  }
 ],
 "metadata": {
  "kernelspec": {
   "display_name": "Python 3 (ipykernel)",
   "language": "python",
   "name": "python3"
  },
  "language_info": {
   "codemirror_mode": {
    "name": "ipython",
    "version": 3
   },
   "file_extension": ".py",
   "mimetype": "text/x-python",
   "name": "python",
   "nbconvert_exporter": "python",
   "pygments_lexer": "ipython3",
   "version": "3.12.1"
  }
 },
 "nbformat": 4,
 "nbformat_minor": 5
}
