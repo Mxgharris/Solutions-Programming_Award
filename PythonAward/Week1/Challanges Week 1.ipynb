{
 "cells": [
  {
   "cell_type": "code",
   "execution_count": 1,
   "metadata": {},
   "outputs": [],
   "source": [
    "def TemperatureConverter():\n",
    "    tempC= int(input(\"Enter a temperature in Celsius: \"))\n",
    "    tempF= tempC*(9/5)+32\n",
    "    print(f\"{tempC}°C is {tempF}°F\")\n",
    "    tempF= int(input(\"Enter a temperature in Fahrenheit: \"))\n",
    "    tempC= (tempF-32) *(5/9)\n",
    "    print(f\"{tempF}°F is {tempC}°C\")\n",
    "    \n",
    "    \n",
    "    \n",
    "\n",
    "def calcMain():\n",
    "    num1= int(input(\"Enter first number: \"))\n",
    "    num2= int(input(\"Enter second number: \"))\n",
    "    Sum(num1,num2)\n",
    "    Dif(num1,num2)\n",
    "    Prod(num1,num2)\n",
    "    Quo(num1,num2)\n",
    "    Mod(num1,num2)\n",
    "    Int(num1,num2)\n",
    "    \n",
    "def Sum(a,b):\n",
    "    print(f\"Sum: {a+b:.1f}\")\n",
    "def Dif(a,b):\n",
    "    print(f\"difference: {abs(a-b):.1f}\")\n",
    "def Prod(a,b):\n",
    "    print(f\"Product: {a*b:.1f}\")\n",
    "def Quo(a,b):\n",
    "    print(f\"Quotient: {a/b:.1f}\")\n",
    "def Mod(a,b):\n",
    "    print(f\"Modulus: {a%b:.1f}\")\n",
    "def Int(a,b):\n",
    "    print(f\"Result of integer division: {int(a/b):.1f}\")\n",
    "\n",
    "\n",
    "def nameMain():\n",
    "    name = input(\"Enter your full name: \")\n",
    "    print(f'''Your initials are: {initials(name)}\n",
    "Total number of characters excluding spaces: {countCharacters(name)}\n",
    "Your name in reverse order is: {reverseName(name)}''')\n",
    "    \n",
    "\n",
    "def initials(nm):\n",
    "    initials= ''\n",
    "    index = 0\n",
    "    while index< len(nm):\n",
    "        if nm[index] !=' ':\n",
    "            initials += nm[index].upper()\n",
    "            index=nm.find(' ',index)+1\n",
    "            if index == 0: \n",
    "                break\n",
    "        else:\n",
    "            index += 1\n",
    "    return initials\n",
    "def countCharacters(nm):\n",
    "    return len(nm.replace(\" \",\"\"))\n",
    "def reverseName(nm):\n",
    "    return nm[::-1]\n",
    "    "
   ]
  },
  {
   "cell_type": "code",
   "execution_count": 2,
   "metadata": {},
   "outputs": [
    {
     "name": "stdout",
     "output_type": "stream",
     "text": [
      "23°C is 73.4°F\n",
      "41°F is 5.0°C\n"
     ]
    }
   ],
   "source": [
    "TemperatureConverter()"
   ]
  },
  {
   "cell_type": "code",
   "execution_count": 9,
   "metadata": {},
   "outputs": [
    {
     "name": "stdout",
     "output_type": "stream",
     "text": [
      "Sum: 17.0\n",
      "difference: 7.0\n",
      "Product: 60.0\n",
      "Quotient: 2.4\n",
      "Modulus: 2.0\n",
      "Result of integer division: 2.0\n"
     ]
    }
   ],
   "source": [
    "calcMain()"
   ]
  },
  {
   "cell_type": "code",
   "execution_count": 7,
   "metadata": {},
   "outputs": [
    {
     "name": "stdout",
     "output_type": "stream",
     "text": [
      "Your initials are: MGH\n",
      "Total number of characters excluding spaces: 9\n",
      "Your name in reverse order is: sirrah G xM\n"
     ]
    }
   ],
   "source": [
    "nameMain()"
   ]
  }
 ],
 "metadata": {
  "kernelspec": {
   "display_name": "Python 3 (ipykernel)",
   "language": "python",
   "name": "python3"
  },
  "language_info": {
   "codemirror_mode": {
    "name": "ipython",
    "version": 3
   },
   "file_extension": ".py",
   "mimetype": "text/x-python",
   "name": "python",
   "nbconvert_exporter": "python",
   "pygments_lexer": "ipython3",
   "version": "3.12.1"
  }
 },
 "nbformat": 4,
 "nbformat_minor": 2
}
